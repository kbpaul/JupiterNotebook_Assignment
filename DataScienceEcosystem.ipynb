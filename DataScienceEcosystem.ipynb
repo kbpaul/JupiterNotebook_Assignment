{
 "cells": [
  {
   "cell_type": "markdown",
   "id": "2995a902-2d51-482f-af9d-9a1a67caa00f",
   "metadata": {},
   "source": [
    "# Data Science Tools and Ecosystem"
   ]
  },
  {
   "attachments": {},
   "cell_type": "markdown",
   "id": "fe6cea14-859d-4434-8843-684aa10facde",
   "metadata": {},
   "source": [
    "In this notebook, Data Science Tools and Ecosystem are summarized.\n"
   ]
  },
  {
   "cell_type": "markdown",
   "id": "cccdb814-4b08-498f-a7c1-19a47513933a",
   "metadata": {},
   "source": [
    "**Objectives**\n",
    "* Some of the popular languages that Data scientists use\n",
    "* Some of the commonly used libraries used by Data Scientist\n",
    "* Data Science Tools\n",
    "* Examples of evaluating arithmetic expressions in Python\n",
    "* Author"
   ]
  },
  {
   "cell_type": "markdown",
   "id": "813efa31-3a5e-4584-97db-2c3fe3bacbd8",
   "metadata": {},
   "source": [
    "Some of the popular languages that Data Scientists use are:\n",
    "1. Python\n",
    "2. R\n",
    "3. Julia"
   ]
  },
  {
   "cell_type": "markdown",
   "id": "1f550bcc-b2f2-483a-92f3-a1dc8e88f997",
   "metadata": {},
   "source": [
    "Some of the commonly used libraries used by Data Scientists include:\n",
    "1. NumPy\n",
    "2. Pandas\n",
    "3. Matplotlib\n",
    "4. Seaborn\n",
    "5. Scikit-learn\n",
    "6. TensorFlow"
   ]
  },
  {
   "cell_type": "markdown",
   "id": "1f162f30-5c95-4f5c-a1ba-b5dd831afa4c",
   "metadata": {},
   "source": [
    "| Data Science Tools |\n",
    "|:------------------:|\n",
    "|Jupiter Notebook    |\n",
    "| R Studio           |\n",
    "| Anaconda           |"
   ]
  },
  {
   "cell_type": "markdown",
   "id": "e84e7424-6188-4542-a79c-ffd00a75472a",
   "metadata": {},
   "source": [
    "### Below are a few examples of evaluating arithmetic expressions in Python"
   ]
  },
  {
   "cell_type": "code",
   "execution_count": 2,
   "id": "ae8b31c5-41f8-46f2-b7d5-0b36d9ac99f4",
   "metadata": {},
   "outputs": [
    {
     "data": {
      "text/plain": [
       "17"
      ]
     },
     "execution_count": 2,
     "metadata": {},
     "output_type": "execute_result"
    }
   ],
   "source": [
    "# This a simple arithmetic expression to mutiply then add integers\n",
    "(3*4)+5"
   ]
  },
  {
   "cell_type": "code",
   "execution_count": 4,
   "id": "65deaa2d-eea9-452b-95dd-01ded517138e",
   "metadata": {},
   "outputs": [
    {
     "data": {
      "text/plain": [
       "3.3333333333333335"
      ]
     },
     "execution_count": 4,
     "metadata": {},
     "output_type": "execute_result"
    }
   ],
   "source": [
    "# This will convert 200 minutes to hours by diving by 60\n",
    "200.0/60"
   ]
  },
  {
   "cell_type": "markdown",
   "id": "48a5ea67-b317-414e-bdb2-d87d01eab76d",
   "metadata": {},
   "source": [
    "## Author\n",
    "Paul Kum"
   ]
  },
  {
   "cell_type": "code",
   "execution_count": null,
   "id": "f42285b6-2cb2-4ebb-a65f-a85041969d37",
   "metadata": {},
   "outputs": [],
   "source": []
  }
 ],
 "metadata": {
  "kernelspec": {
   "display_name": "Python 3 (ipykernel)",
   "language": "python",
   "name": "python3"
  },
  "language_info": {
   "codemirror_mode": {
    "name": "ipython",
    "version": 3
   },
   "file_extension": ".py",
   "mimetype": "text/x-python",
   "name": "python",
   "nbconvert_exporter": "python",
   "pygments_lexer": "ipython3",
   "version": "3.12.7"
  }
 },
 "nbformat": 4,
 "nbformat_minor": 5
}
